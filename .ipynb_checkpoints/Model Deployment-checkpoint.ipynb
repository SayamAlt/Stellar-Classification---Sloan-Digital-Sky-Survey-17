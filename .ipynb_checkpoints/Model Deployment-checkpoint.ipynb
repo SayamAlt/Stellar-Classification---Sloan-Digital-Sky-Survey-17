{
 "cells": [
  {
   "cell_type": "code",
   "execution_count": 1,
   "id": "a184ca79",
   "metadata": {},
   "outputs": [],
   "source": [
    "from flask import Flask, render_template, request\n",
    "import joblib"
   ]
  },
  {
   "cell_type": "code",
   "execution_count": 2,
   "id": "43e670d6",
   "metadata": {},
   "outputs": [
    {
     "data": {
      "text/plain": [
       "<catboost.core.CatBoostClassifier at 0x1f736eff8b0>"
      ]
     },
     "execution_count": 2,
     "metadata": {},
     "output_type": "execute_result"
    }
   ],
   "source": [
    "model = joblib.load('model.pkl')\n",
    "model"
   ]
  },
  {
   "cell_type": "code",
   "execution_count": 3,
   "id": "937f9fef",
   "metadata": {},
   "outputs": [
    {
     "data": {
      "text/plain": [
       "StandardScaler()"
      ]
     },
     "execution_count": 3,
     "metadata": {},
     "output_type": "execute_result"
    }
   ],
   "source": [
    "scaler = joblib.load('scaler.bin')\n",
    "scaler"
   ]
  },
  {
   "cell_type": "code",
   "execution_count": 4,
   "id": "c26116c6",
   "metadata": {},
   "outputs": [],
   "source": [
    "app = Flask(__name__)"
   ]
  },
  {
   "cell_type": "code",
   "execution_count": 5,
   "id": "eab2cb75",
   "metadata": {},
   "outputs": [],
   "source": [
    "@app.route(\"/\")\n",
    "def home():\n",
    "    return render_template('home.html')"
   ]
  },
  {
   "cell_type": "code",
   "execution_count": 6,
   "id": "1fc964c7",
   "metadata": {},
   "outputs": [],
   "source": [
    "@app.route(\"/predict\", methods=[\"GET\",\"POST\"])\n",
    "def predict():\n",
    "    if request.method == \"POST\":\n",
    "        alpha = request.form['alpha'] #range: (0.005,359.999)\n",
    "        delta = request.form['delta'] #range: (-18.785,83.000)\n",
    "        u = request.form['u'] #range: (15.349,28.690)\n",
    "        r = request.form['r'] #range: (13.772,25.408)\n",
    "        run_id = request.form['run_id'] #range: (109.0,8162.0)\n",
    "        cam_col = request.form['cam_col'] #range: (1.0,6.0)\n",
    "        field_id = request.form['field_id'] #range: (11.0,479.5)\n",
    "        redshift = request.form['redshift'] #range: (-0.009,1.678)\n",
    "        plate = request.form['plate'] #range: (266.0,12547.0)\n",
    "        fiber_id = request.form['fiber_id'] #range: (1.0,1000.0)\n",
    "        mjy = request.form['mjy'] #range: (141.39,161.45)\n",
    "\n",
    "        X_test = scaler.transform([[\n",
    "            alpha,\n",
    "            delta,\n",
    "            u,\n",
    "            r,\n",
    "            run_id,\n",
    "            cam_col,\n",
    "            field_id,\n",
    "            redshift,\n",
    "            plate,\n",
    "            fiber_id,\n",
    "            mjy\n",
    "        ]])\n",
    "        \n",
    "        predictions = model.predict(X_test)\n",
    "        output = predictions[0]\n",
    "        if output == \"GALAXY\":\n",
    "            return render_template('home.html',prediction_text=\"The stellar class based on the specified spectral characteristics is a galaxy.\")\n",
    "        elif output == \"QSO\":\n",
    "            return render_template('home.html',prediction_text=\"The stellar class based on the specified spectral characteristics is a quasar.\")\n",
    "        elif output == \"STAR\":\n",
    "            return render_template('home.html',prediction_text=\"The stellar class based on the specified spectral characteristics is a star.\")"
   ]
  },
  {
   "cell_type": "code",
   "execution_count": null,
   "id": "12ff4446",
   "metadata": {},
   "outputs": [
    {
     "name": "stdout",
     "output_type": "stream",
     "text": [
      " * Serving Flask app '__main__' (lazy loading)\n",
      " * Environment: production\n",
      "\u001b[31m   WARNING: This is a development server. Do not use it in a production deployment.\u001b[0m\n",
      "\u001b[2m   Use a production WSGI server instead.\u001b[0m\n",
      " * Debug mode: off\n"
     ]
    },
    {
     "name": "stderr",
     "output_type": "stream",
     "text": [
      " * Running on http://127.0.0.1:8080/ (Press CTRL+C to quit)\n",
      "127.0.0.1 - - [10/Jun/2022 01:39:33] \"GET / HTTP/1.1\" 200 -\n",
      "127.0.0.1 - - [10/Jun/2022 01:42:37] \"POST /predict HTTP/1.1\" 200 -\n",
      "127.0.0.1 - - [10/Jun/2022 01:47:02] \"POST /predict HTTP/1.1\" 200 -\n",
      "127.0.0.1 - - [10/Jun/2022 01:50:38] \"POST /predict HTTP/1.1\" 200 -\n"
     ]
    }
   ],
   "source": [
    "if __name__ == \"__main__\":\n",
    "    app.run(port=8080)"
   ]
  }
 ],
 "metadata": {
  "kernelspec": {
   "display_name": "Python 3 (ipykernel)",
   "language": "python",
   "name": "python3"
  },
  "language_info": {
   "codemirror_mode": {
    "name": "ipython",
    "version": 3
   },
   "file_extension": ".py",
   "mimetype": "text/x-python",
   "name": "python",
   "nbconvert_exporter": "python",
   "pygments_lexer": "ipython3",
   "version": "3.8.8"
  }
 },
 "nbformat": 4,
 "nbformat_minor": 5
}
